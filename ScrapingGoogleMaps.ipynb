{
  "nbformat": 4,
  "nbformat_minor": 0,
  "metadata": {
    "colab": {
      "name": "ScrapingGoogleMaps.ipynb",
      "provenance": []
    },
    "kernelspec": {
      "name": "python3",
      "display_name": "Python 3"
    }
  },
  "cells": [
    {
      "cell_type": "code",
      "metadata": {
        "colab": {
          "base_uri": "https://localhost:8080/"
        },
        "id": "z0y-GVvb_UAI",
        "outputId": "9acd89c7-fdc8-4527-aada-51d38cdb5ca6"
      },
      "source": [
        "!pip install selenium\r\n",
        "!apt-get update # to update ubuntu to correctly run apt install\r\n",
        "!apt install chromium-chromedriver\r\n",
        "!cp /usr/lib/chromium-browser/chromedriver /usr/bin"
      ],
      "execution_count": 1,
      "outputs": [
        {
          "output_type": "stream",
          "text": [
            "Collecting selenium\n",
            "\u001b[?25l  Downloading https://files.pythonhosted.org/packages/80/d6/4294f0b4bce4de0abf13e17190289f9d0613b0a44e5dd6a7f5ca98459853/selenium-3.141.0-py2.py3-none-any.whl (904kB)\n",
            "\r\u001b[K     |▍                               | 10kB 23.1MB/s eta 0:00:01\r\u001b[K     |▊                               | 20kB 30.4MB/s eta 0:00:01\r\u001b[K     |█                               | 30kB 16.0MB/s eta 0:00:01\r\u001b[K     |█▌                              | 40kB 11.3MB/s eta 0:00:01\r\u001b[K     |█▉                              | 51kB 6.9MB/s eta 0:00:01\r\u001b[K     |██▏                             | 61kB 7.4MB/s eta 0:00:01\r\u001b[K     |██▌                             | 71kB 7.9MB/s eta 0:00:01\r\u001b[K     |███                             | 81kB 8.0MB/s eta 0:00:01\r\u001b[K     |███▎                            | 92kB 8.0MB/s eta 0:00:01\r\u001b[K     |███▋                            | 102kB 8.5MB/s eta 0:00:01\r\u001b[K     |████                            | 112kB 8.5MB/s eta 0:00:01\r\u001b[K     |████▍                           | 122kB 8.5MB/s eta 0:00:01\r\u001b[K     |████▊                           | 133kB 8.5MB/s eta 0:00:01\r\u001b[K     |█████                           | 143kB 8.5MB/s eta 0:00:01\r\u001b[K     |█████▍                          | 153kB 8.5MB/s eta 0:00:01\r\u001b[K     |█████▉                          | 163kB 8.5MB/s eta 0:00:01\r\u001b[K     |██████▏                         | 174kB 8.5MB/s eta 0:00:01\r\u001b[K     |██████▌                         | 184kB 8.5MB/s eta 0:00:01\r\u001b[K     |██████▉                         | 194kB 8.5MB/s eta 0:00:01\r\u001b[K     |███████▎                        | 204kB 8.5MB/s eta 0:00:01\r\u001b[K     |███████▋                        | 215kB 8.5MB/s eta 0:00:01\r\u001b[K     |████████                        | 225kB 8.5MB/s eta 0:00:01\r\u001b[K     |████████▎                       | 235kB 8.5MB/s eta 0:00:01\r\u001b[K     |████████▊                       | 245kB 8.5MB/s eta 0:00:01\r\u001b[K     |█████████                       | 256kB 8.5MB/s eta 0:00:01\r\u001b[K     |█████████▍                      | 266kB 8.5MB/s eta 0:00:01\r\u001b[K     |█████████▉                      | 276kB 8.5MB/s eta 0:00:01\r\u001b[K     |██████████▏                     | 286kB 8.5MB/s eta 0:00:01\r\u001b[K     |██████████▌                     | 296kB 8.5MB/s eta 0:00:01\r\u001b[K     |██████████▉                     | 307kB 8.5MB/s eta 0:00:01\r\u001b[K     |███████████▎                    | 317kB 8.5MB/s eta 0:00:01\r\u001b[K     |███████████▋                    | 327kB 8.5MB/s eta 0:00:01\r\u001b[K     |████████████                    | 337kB 8.5MB/s eta 0:00:01\r\u001b[K     |████████████▎                   | 348kB 8.5MB/s eta 0:00:01\r\u001b[K     |████████████▊                   | 358kB 8.5MB/s eta 0:00:01\r\u001b[K     |█████████████                   | 368kB 8.5MB/s eta 0:00:01\r\u001b[K     |█████████████▍                  | 378kB 8.5MB/s eta 0:00:01\r\u001b[K     |█████████████▊                  | 389kB 8.5MB/s eta 0:00:01\r\u001b[K     |██████████████▏                 | 399kB 8.5MB/s eta 0:00:01\r\u001b[K     |██████████████▌                 | 409kB 8.5MB/s eta 0:00:01\r\u001b[K     |██████████████▉                 | 419kB 8.5MB/s eta 0:00:01\r\u001b[K     |███████████████▏                | 430kB 8.5MB/s eta 0:00:01\r\u001b[K     |███████████████▋                | 440kB 8.5MB/s eta 0:00:01\r\u001b[K     |████████████████                | 450kB 8.5MB/s eta 0:00:01\r\u001b[K     |████████████████▎               | 460kB 8.5MB/s eta 0:00:01\r\u001b[K     |████████████████▋               | 471kB 8.5MB/s eta 0:00:01\r\u001b[K     |█████████████████               | 481kB 8.5MB/s eta 0:00:01\r\u001b[K     |█████████████████▍              | 491kB 8.5MB/s eta 0:00:01\r\u001b[K     |█████████████████▊              | 501kB 8.5MB/s eta 0:00:01\r\u001b[K     |██████████████████▏             | 512kB 8.5MB/s eta 0:00:01\r\u001b[K     |██████████████████▌             | 522kB 8.5MB/s eta 0:00:01\r\u001b[K     |██████████████████▉             | 532kB 8.5MB/s eta 0:00:01\r\u001b[K     |███████████████████▏            | 542kB 8.5MB/s eta 0:00:01\r\u001b[K     |███████████████████▋            | 552kB 8.5MB/s eta 0:00:01\r\u001b[K     |████████████████████            | 563kB 8.5MB/s eta 0:00:01\r\u001b[K     |████████████████████▎           | 573kB 8.5MB/s eta 0:00:01\r\u001b[K     |████████████████████▋           | 583kB 8.5MB/s eta 0:00:01\r\u001b[K     |█████████████████████           | 593kB 8.5MB/s eta 0:00:01\r\u001b[K     |█████████████████████▍          | 604kB 8.5MB/s eta 0:00:01\r\u001b[K     |█████████████████████▊          | 614kB 8.5MB/s eta 0:00:01\r\u001b[K     |██████████████████████          | 624kB 8.5MB/s eta 0:00:01\r\u001b[K     |██████████████████████▌         | 634kB 8.5MB/s eta 0:00:01\r\u001b[K     |██████████████████████▉         | 645kB 8.5MB/s eta 0:00:01\r\u001b[K     |███████████████████████▏        | 655kB 8.5MB/s eta 0:00:01\r\u001b[K     |███████████████████████▌        | 665kB 8.5MB/s eta 0:00:01\r\u001b[K     |████████████████████████        | 675kB 8.5MB/s eta 0:00:01\r\u001b[K     |████████████████████████▎       | 686kB 8.5MB/s eta 0:00:01\r\u001b[K     |████████████████████████▋       | 696kB 8.5MB/s eta 0:00:01\r\u001b[K     |█████████████████████████       | 706kB 8.5MB/s eta 0:00:01\r\u001b[K     |█████████████████████████▍      | 716kB 8.5MB/s eta 0:00:01\r\u001b[K     |█████████████████████████▊      | 727kB 8.5MB/s eta 0:00:01\r\u001b[K     |██████████████████████████      | 737kB 8.5MB/s eta 0:00:01\r\u001b[K     |██████████████████████████▍     | 747kB 8.5MB/s eta 0:00:01\r\u001b[K     |██████████████████████████▉     | 757kB 8.5MB/s eta 0:00:01\r\u001b[K     |███████████████████████████▏    | 768kB 8.5MB/s eta 0:00:01\r\u001b[K     |███████████████████████████▌    | 778kB 8.5MB/s eta 0:00:01\r\u001b[K     |████████████████████████████    | 788kB 8.5MB/s eta 0:00:01\r\u001b[K     |████████████████████████████▎   | 798kB 8.5MB/s eta 0:00:01\r\u001b[K     |████████████████████████████▋   | 808kB 8.5MB/s eta 0:00:01\r\u001b[K     |█████████████████████████████   | 819kB 8.5MB/s eta 0:00:01\r\u001b[K     |█████████████████████████████▍  | 829kB 8.5MB/s eta 0:00:01\r\u001b[K     |█████████████████████████████▊  | 839kB 8.5MB/s eta 0:00:01\r\u001b[K     |██████████████████████████████  | 849kB 8.5MB/s eta 0:00:01\r\u001b[K     |██████████████████████████████▍ | 860kB 8.5MB/s eta 0:00:01\r\u001b[K     |██████████████████████████████▉ | 870kB 8.5MB/s eta 0:00:01\r\u001b[K     |███████████████████████████████▏| 880kB 8.5MB/s eta 0:00:01\r\u001b[K     |███████████████████████████████▌| 890kB 8.5MB/s eta 0:00:01\r\u001b[K     |███████████████████████████████▉| 901kB 8.5MB/s eta 0:00:01\r\u001b[K     |████████████████████████████████| 911kB 8.5MB/s \n",
            "\u001b[?25hRequirement already satisfied: urllib3 in /usr/local/lib/python3.6/dist-packages (from selenium) (1.24.3)\n",
            "Installing collected packages: selenium\n",
            "Successfully installed selenium-3.141.0\n",
            "Get:1 https://cloud.r-project.org/bin/linux/ubuntu bionic-cran40/ InRelease [3,626 B]\n",
            "Ign:2 https://developer.download.nvidia.com/compute/cuda/repos/ubuntu1804/x86_64  InRelease\n",
            "Ign:3 https://developer.download.nvidia.com/compute/machine-learning/repos/ubuntu1804/x86_64  InRelease\n",
            "Get:4 https://developer.download.nvidia.com/compute/cuda/repos/ubuntu1804/x86_64  Release [697 B]\n",
            "Hit:5 https://developer.download.nvidia.com/compute/machine-learning/repos/ubuntu1804/x86_64  Release\n",
            "Get:6 https://developer.download.nvidia.com/compute/cuda/repos/ubuntu1804/x86_64  Release.gpg [836 B]\n",
            "Get:7 http://security.ubuntu.com/ubuntu bionic-security InRelease [88.7 kB]\n",
            "Get:8 https://cloud.r-project.org/bin/linux/ubuntu bionic-cran40/ Packages [40.7 kB]\n",
            "Get:9 http://ppa.launchpad.net/c2d4u.team/c2d4u4.0+/ubuntu bionic InRelease [15.9 kB]\n",
            "Hit:10 http://archive.ubuntu.com/ubuntu bionic InRelease\n",
            "Get:12 http://archive.ubuntu.com/ubuntu bionic-updates InRelease [88.7 kB]\n",
            "Ign:13 https://developer.download.nvidia.com/compute/cuda/repos/ubuntu1804/x86_64  Packages\n",
            "Get:13 https://developer.download.nvidia.com/compute/cuda/repos/ubuntu1804/x86_64  Packages [506 kB]\n",
            "Get:14 http://security.ubuntu.com/ubuntu bionic-security/main amd64 Packages [1,816 kB]\n",
            "Get:15 http://ppa.launchpad.net/graphics-drivers/ppa/ubuntu bionic InRelease [21.3 kB]\n",
            "Get:16 http://archive.ubuntu.com/ubuntu bionic-backports InRelease [74.6 kB]\n",
            "Get:17 http://security.ubuntu.com/ubuntu bionic-security/multiverse amd64 Packages [15.3 kB]\n",
            "Get:18 http://security.ubuntu.com/ubuntu bionic-security/restricted amd64 Packages [237 kB]\n",
            "Get:19 http://security.ubuntu.com/ubuntu bionic-security/universe amd64 Packages [1,372 kB]\n",
            "Get:20 http://ppa.launchpad.net/c2d4u.team/c2d4u4.0+/ubuntu bionic/main Sources [1,699 kB]\n",
            "Get:21 http://archive.ubuntu.com/ubuntu bionic-updates/multiverse amd64 Packages [53.8 kB]\n",
            "Get:22 http://archive.ubuntu.com/ubuntu bionic-updates/universe amd64 Packages [2,136 kB]\n",
            "Get:23 http://archive.ubuntu.com/ubuntu bionic-updates/main amd64 Packages [2,244 kB]\n",
            "Get:24 http://archive.ubuntu.com/ubuntu bionic-updates/restricted amd64 Packages [266 kB]\n",
            "Get:25 http://ppa.launchpad.net/c2d4u.team/c2d4u4.0+/ubuntu bionic/main amd64 Packages [870 kB]\n",
            "Get:26 http://ppa.launchpad.net/graphics-drivers/ppa/ubuntu bionic/main amd64 Packages [46.5 kB]\n",
            "Fetched 11.6 MB in 4s (3,070 kB/s)\n",
            "Reading package lists... Done\n",
            "Reading package lists... Done\n",
            "Building dependency tree       \n",
            "Reading state information... Done\n",
            "The following additional packages will be installed:\n",
            "  chromium-browser chromium-browser-l10n chromium-codecs-ffmpeg-extra\n",
            "Suggested packages:\n",
            "  webaccounts-chromium-extension unity-chromium-extension adobe-flashplugin\n",
            "The following NEW packages will be installed:\n",
            "  chromium-browser chromium-browser-l10n chromium-chromedriver\n",
            "  chromium-codecs-ffmpeg-extra\n",
            "0 upgraded, 4 newly installed, 0 to remove and 59 not upgraded.\n",
            "Need to get 81.0 MB of archives.\n",
            "After this operation, 273 MB of additional disk space will be used.\n",
            "Get:1 http://archive.ubuntu.com/ubuntu bionic-updates/universe amd64 chromium-codecs-ffmpeg-extra amd64 87.0.4280.66-0ubuntu0.18.04.1 [1,122 kB]\n",
            "Get:2 http://archive.ubuntu.com/ubuntu bionic-updates/universe amd64 chromium-browser amd64 87.0.4280.66-0ubuntu0.18.04.1 [71.7 MB]\n",
            "Get:3 http://archive.ubuntu.com/ubuntu bionic-updates/universe amd64 chromium-browser-l10n all 87.0.4280.66-0ubuntu0.18.04.1 [3,716 kB]\n",
            "Get:4 http://archive.ubuntu.com/ubuntu bionic-updates/universe amd64 chromium-chromedriver amd64 87.0.4280.66-0ubuntu0.18.04.1 [4,488 kB]\n",
            "Fetched 81.0 MB in 5s (15.3 MB/s)\n",
            "Selecting previously unselected package chromium-codecs-ffmpeg-extra.\n",
            "(Reading database ... 144865 files and directories currently installed.)\n",
            "Preparing to unpack .../chromium-codecs-ffmpeg-extra_87.0.4280.66-0ubuntu0.18.04.1_amd64.deb ...\n",
            "Unpacking chromium-codecs-ffmpeg-extra (87.0.4280.66-0ubuntu0.18.04.1) ...\n",
            "Selecting previously unselected package chromium-browser.\n",
            "Preparing to unpack .../chromium-browser_87.0.4280.66-0ubuntu0.18.04.1_amd64.deb ...\n",
            "Unpacking chromium-browser (87.0.4280.66-0ubuntu0.18.04.1) ...\n",
            "Selecting previously unselected package chromium-browser-l10n.\n",
            "Preparing to unpack .../chromium-browser-l10n_87.0.4280.66-0ubuntu0.18.04.1_all.deb ...\n",
            "Unpacking chromium-browser-l10n (87.0.4280.66-0ubuntu0.18.04.1) ...\n",
            "Selecting previously unselected package chromium-chromedriver.\n",
            "Preparing to unpack .../chromium-chromedriver_87.0.4280.66-0ubuntu0.18.04.1_amd64.deb ...\n",
            "Unpacking chromium-chromedriver (87.0.4280.66-0ubuntu0.18.04.1) ...\n",
            "Setting up chromium-codecs-ffmpeg-extra (87.0.4280.66-0ubuntu0.18.04.1) ...\n",
            "Setting up chromium-browser (87.0.4280.66-0ubuntu0.18.04.1) ...\n",
            "update-alternatives: using /usr/bin/chromium-browser to provide /usr/bin/x-www-browser (x-www-browser) in auto mode\n",
            "update-alternatives: using /usr/bin/chromium-browser to provide /usr/bin/gnome-www-browser (gnome-www-browser) in auto mode\n",
            "Setting up chromium-chromedriver (87.0.4280.66-0ubuntu0.18.04.1) ...\n",
            "Setting up chromium-browser-l10n (87.0.4280.66-0ubuntu0.18.04.1) ...\n",
            "Processing triggers for hicolor-icon-theme (0.17-2) ...\n",
            "Processing triggers for mime-support (3.60ubuntu1) ...\n",
            "Processing triggers for man-db (2.8.3-2ubuntu0.1) ...\n",
            "cp: '/usr/lib/chromium-browser/chromedriver' and '/usr/bin/chromedriver' are the same file\n"
          ],
          "name": "stdout"
        }
      ]
    },
    {
      "cell_type": "code",
      "metadata": {
        "id": "sl0FD90m_fGH"
      },
      "source": [
        "from selenium import webdriver\r\n",
        "from selenium.webdriver.common.by import By\r\n",
        "from selenium.webdriver.support.ui import WebDriverWait\r\n",
        "from selenium.webdriver.support import expected_conditions as EC\r\n",
        "from time import sleep\r\n",
        "from bs4 import BeautifulSoup\r\n",
        "import sys\r\n",
        "import pandas as pd"
      ],
      "execution_count": 2,
      "outputs": []
    },
    {
      "cell_type": "code",
      "metadata": {
        "id": "lV1bE_bo_m4M"
      },
      "source": [
        "sys.path.insert(0,'/usr/lib/chromium-browser/chromedriver')\r\n",
        "chrome_options = webdriver.ChromeOptions()\r\n",
        "chrome_options = webdriver.ChromeOptions()\r\n",
        "chrome_options.add_argument('--headless')\r\n",
        "chrome_options.add_argument('--no-sandbox')\r\n",
        "chrome_options.add_argument('--disable-dev-shm-usage')"
      ],
      "execution_count": 3,
      "outputs": []
    },
    {
      "cell_type": "code",
      "metadata": {
        "id": "x6v9eQUa_nIK"
      },
      "source": [
        "review_dict = {'id_review':[], 'user':[], 'review':[], 'ratings':[], 'pub_date':[]}"
      ],
      "execution_count": 4,
      "outputs": []
    },
    {
      "cell_type": "code",
      "metadata": {
        "colab": {
          "base_uri": "https://localhost:8080/"
        },
        "id": "wMXX0iBH_two",
        "outputId": "0c6aaa16-23ed-4cd9-fafa-2fca30659626"
      },
      "source": [
        "driver = webdriver.Chrome('chromedriver',chrome_options=chrome_options)\r\n",
        "url = \"https://www.google.tn/maps/place/Tunisia+Mall/@36.846847,10.275538,15z/data=!4m7!3m6!1s0x12fd4ab44df809c9:0x97b81064f47410e2!8m2!3d36.8479914!4d10.2788652!9m1!1b1?hl=fr\"\r\n",
        "driver.get(url)\r\n",
        "wait = WebDriverWait(driver, 10)\r\n",
        "sleep(5)\r\n",
        "\r\n",
        "for i in range(15):\r\n",
        "    scrollable_div = driver.find_element_by_css_selector( 'div.section-layout.section-scrollbox.scrollable-y.scrollable-show')\r\n",
        "    driver.execute_script('arguments[0].scrollTop = arguments[0].scrollHeight', scrollable_div)\r\n",
        "    wait = WebDriverWait(driver, 10)\r\n",
        "    sleep(5)\r\n",
        "\r\n",
        "response = BeautifulSoup(driver.page_source, 'html.parser')\r\n",
        "rlist = response.find_all('div', class_='section-review-content')\r\n",
        "\r\n",
        "for reviews in rlist:\r\n",
        "    \r\n",
        "    id_r = reviews.find('button', class_='section-review-action-menu')['data-review-id']\r\n",
        "    review_dict['id_review'].append(id_r)\r\n",
        "\r\n",
        "    username = reviews.find('div', class_='section-review-title').find('span').text\r\n",
        "    review_dict['user'].append(username)\r\n",
        "\r\n",
        "    try:\r\n",
        "        reviews.find('span', class_='section-review-text').text\r\n",
        "        review_dict['review'].append(reviews.find('span', class_='section-review-text').text)\r\n",
        "            \r\n",
        "    except Exception:\r\n",
        "        review_text = None\r\n",
        "        review_dict['review'].append(review_text)\r\n",
        "        \r\n",
        "    rating = reviews.find('span', class_='section-review-stars')['aria-label']\r\n",
        "    review_dict['ratings'].append(rating)\r\n",
        "    \r\n",
        "    rel_date = reviews.find('span', class_='section-review-publish-date').text\r\n",
        "    review_dict['pub_date'].append(rel_date)"
      ],
      "execution_count": 5,
      "outputs": [
        {
          "output_type": "stream",
          "text": [
            "/usr/local/lib/python3.6/dist-packages/ipykernel_launcher.py:1: DeprecationWarning: use options instead of chrome_options\n",
            "  \"\"\"Entry point for launching an IPython kernel.\n"
          ],
          "name": "stderr"
        }
      ]
    },
    {
      "cell_type": "code",
      "metadata": {
        "id": "teG-ToBm_t7g"
      },
      "source": [
        "df = pd.DataFrame.from_dict(review_dict, orient='index').transpose()"
      ],
      "execution_count": 6,
      "outputs": []
    },
    {
      "cell_type": "code",
      "metadata": {
        "id": "9_WNgayH_t-d"
      },
      "source": [
        "df=df.drop(['id_review','user','pub_date'], axis = 1)"
      ],
      "execution_count": 7,
      "outputs": []
    },
    {
      "cell_type": "code",
      "metadata": {
        "id": "CieEPGXW_uFA"
      },
      "source": [
        "df.to_csv('google_user_reviews.csv')"
      ],
      "execution_count": 8,
      "outputs": []
    },
    {
      "cell_type": "code",
      "metadata": {
        "id": "02DBwiooAy5h"
      },
      "source": [
        ""
      ],
      "execution_count": null,
      "outputs": []
    }
  ]
}